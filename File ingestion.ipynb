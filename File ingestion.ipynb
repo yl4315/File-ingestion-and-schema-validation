{
 "cells": [
  {
   "cell_type": "markdown",
   "id": "04a6078f",
   "metadata": {
    "id": "supreme-paris"
   },
   "source": [
    "- Take any csv/text file of 2+ GB of your choice. --- (You can do this assignment on Google colab)\n",
    "\n",
    "- Read the file ( Present approach of reading the file )\n",
    "\n",
    "- Try different methods of file reading eg: Dask, Modin, Ray, pandas and present your findings in term of computational efficiency\n",
    "\n",
    "- Perform basic validation on data columns : eg: remove special character , white spaces from the col name\n",
    "\n",
    "- As you already know the schema hence create a YAML file and write the column name in YAML file. --define separator of read and write file, column name in YAML\n",
    "\n",
    "- Validate number of columns and column name of ingested file with YAML.\n",
    "\n",
    "- Write the file in pipe separated text file (|) in gz format.\n",
    "\n",
    "- Create a summary of the file:\n",
    "\n",
    "- Total number of rows,\n",
    "\n",
    "- total number of columns\n",
    "\n",
    "- file size\n"
   ]
  },
  {
   "cell_type": "code",
   "execution_count": null,
   "id": "c8d0d3b2",
   "metadata": {
    "ExecuteTime": {
     "end_time": "2022-10-21T03:08:33.274785Z",
     "start_time": "2022-10-21T03:08:03.661051Z"
    },
    "colab": {
     "base_uri": "https://localhost:8080/"
    },
    "id": "1MM_9isKSQBa",
    "outputId": "bf97a48f-5698-48a9-abd2-2fa717bf88fe"
   },
   "outputs": [],
   "source": [
    "!pip install ray --user"
   ]
  },
  {
   "cell_type": "code",
   "execution_count": null,
   "id": "e7114cbc",
   "metadata": {
    "ExecuteTime": {
     "end_time": "2022-10-21T03:09:16.117620Z",
     "start_time": "2022-10-21T03:09:07.564492Z"
    },
    "colab": {
     "base_uri": "https://localhost:8080/"
    },
    "id": "PA8wF-00Saif",
    "outputId": "0d4d7018-341e-49e5-d2e0-78b34937b351"
   },
   "outputs": [],
   "source": [
    "#!pip install modin\n",
    "#!pip install --upgrade pandas"
   ]
  },
  {
   "cell_type": "code",
   "execution_count": 1,
   "id": "1d58a9ad",
   "metadata": {
    "ExecuteTime": {
     "end_time": "2022-10-21T03:19:52.662351Z",
     "start_time": "2022-10-21T03:19:48.257797Z"
    },
    "id": "UtfPX_gdSChc"
   },
   "outputs": [
    {
     "name": "stderr",
     "output_type": "stream",
     "text": [
      "/home/ychen306/.local/lib/python3.7/site-packages/pandas/compat/_optional.py:138: UserWarning: Pandas requires version '2.7.0' or newer of 'numexpr' (version '2.6.8' currently installed).\n",
      "  warnings.warn(msg, UserWarning)\n",
      "/home/ychen306/.local/lib/python3.7/site-packages/dask/dataframe/utils.py:15: FutureWarning: pandas.util.testing is deprecated. Use the functions in the public API at pandas.testing instead.\n",
      "  import pandas.util.testing as tm\n"
     ]
    }
   ],
   "source": [
    "import os\n",
    "# import ray\n",
    "import time\n",
    "import numpy as np\n",
    "import pandas as pd\n",
    "# import modin.pandas as modin\n",
    "from dask import dataframe as dd"
   ]
  },
  {
   "cell_type": "code",
   "execution_count": 2,
   "id": "2c899bb3",
   "metadata": {
    "ExecuteTime": {
     "end_time": "2022-10-21T03:10:22.936941Z",
     "start_time": "2022-10-21T03:10:14.084666Z"
    }
   },
   "outputs": [
    {
     "name": "stdout",
     "output_type": "stream",
     "text": [
      "Combined_Flights_2019.csv  test_ingestion.ipynb\r\n"
     ]
    }
   ],
   "source": [
    "!ls"
   ]
  },
  {
   "cell_type": "code",
   "execution_count": 3,
   "id": "5f07835a",
   "metadata": {
    "ExecuteTime": {
     "end_time": "2022-10-21T03:10:40.966298Z",
     "start_time": "2022-10-21T03:10:40.949382Z"
    },
    "colab": {
     "base_uri": "https://localhost:8080/"
    },
    "id": "closing-thailand",
    "outputId": "436b79b3-1b11-4ad1-a503-2aaf65f6b6ed"
   },
   "outputs": [
    {
     "name": "stdout",
     "output_type": "stream",
     "text": [
      "Writing testutility.py\n"
     ]
    }
   ],
   "source": [
    "%%writefile testutility.py\n",
    "import logging\n",
    "import os\n",
    "import subprocess\n",
    "import yaml\n",
    "import pandas as pd\n",
    "import datetime \n",
    "import gc\n",
    "import re\n",
    "\n",
    "\n",
    "################\n",
    "# File Reading #\n",
    "################\n",
    "\n",
    "def read_config_file(filepath):\n",
    "    with open(filepath, 'r') as stream:\n",
    "        try:\n",
    "            return yaml.safe_load(stream)\n",
    "        except yaml.YAMLError as exc:\n",
    "            logging.error(exc)\n",
    "\n",
    "\n",
    "def replacer(string, char):\n",
    "    pattern = char + '{2,}'\n",
    "    string = re.sub(pattern, char, string) \n",
    "    return string\n",
    "\n",
    "def col_header_val(df,table_config):\n",
    "    '''\n",
    "    replace whitespaces in the column\n",
    "    and standardized column names\n",
    "    '''\n",
    "    # df.columns = df.columns.str.lower()\n",
    "    df.columns = df.columns.str.replace('[^\\w]','_',regex=True)\n",
    "    df.columns = list(map(lambda x: x.strip('_'), list(df.columns)))\n",
    "    df.columns = list(map(lambda x: replacer(x,'_'), list(df.columns)))\n",
    "    # expected_col = list(map(lambda x: x.lower(),  table_config['columns']))\n",
    "    expected_col = table_config['columns']\n",
    "    expected_col.sort()\n",
    "    # df.columns = list(map(lambda x: x.lower(), list(df.columns)))\n",
    "    df = df.reindex(sorted(df.columns), axis=1)\n",
    "    if len(df.columns) == len(expected_col) and list(expected_col)  == list(df.columns):\n",
    "        print(\"column name and column length validation passed\")\n",
    "        return 1\n",
    "    else:\n",
    "        print(\"column name and column length validation failed\")\n",
    "        mismatched_columns_file = list(set(df.columns).difference(expected_col))\n",
    "        print(\"Following File columns are not in the YAML file\",mismatched_columns_file)\n",
    "        missing_YAML_file = list(set(expected_col).difference(df.columns))\n",
    "        print(\"Following YAML columns are not in the file uploaded\",missing_YAML_file)\n",
    "        logging.info(f'df columns: {df.columns}')\n",
    "        logging.info(f'expected columns: {expected_col}')\n",
    "        return 0"
   ]
  },
  {
   "cell_type": "markdown",
   "id": "0b4774c8",
   "metadata": {
    "id": "dense-transaction"
   },
   "source": [
    "### Write YAML file"
   ]
  },
  {
   "cell_type": "code",
   "execution_count": 4,
   "id": "06803c97",
   "metadata": {
    "ExecuteTime": {
     "end_time": "2022-10-21T03:10:47.558361Z",
     "start_time": "2022-10-21T03:10:47.548646Z"
    },
    "colab": {
     "base_uri": "https://localhost:8080/"
    },
    "id": "running-raleigh",
    "outputId": "b76564be-931c-4f3a-fea5-c840d4cb929f"
   },
   "outputs": [
    {
     "name": "stdout",
     "output_type": "stream",
     "text": [
      "Writing file.yaml\n"
     ]
    }
   ],
   "source": [
    "%%writefile file.yaml\n",
    "file_type: csv\n",
    "dataset_name: testfile\n",
    "file_name: Combined_Flights_2019\n",
    "table_name: edsurv\n",
    "inbound_delimiter: \",\"\n",
    "outbound_delimiter: \"|\"\n",
    "skip_leading_rows: 1\n",
    "columns: \n",
    "    - FlightDate\n",
    "    - Airline\n",
    "    - Origin\n",
    "    - Dest\n",
    "    - Cancelled\n",
    "    - Diverted\n",
    "    - CRSDepTime\n",
    "    - DepTime\n",
    "    - DepDelayMinutes\n",
    "    - DepDelay\n",
    "    - ArrTime\n",
    "    - ArrDelayMinutes\n",
    "    - AirTime\n",
    "    - CRSElapsedTime\n",
    "    - ActualElapsedTime\n",
    "    - Distance\n",
    "    - Year\n",
    "    - Quarter\n",
    "    - Month\n",
    "    - DayofMonth\n",
    "    - DayOfWeek\n",
    "    - Marketing_Airline_Network\n",
    "    - Operated_or_Branded_Code_Share_Partners\n",
    "    - DOT_ID_Marketing_Airline\n",
    "    - IATA_Code_Marketing_Airline\n",
    "    - Flight_Number_Marketing_Airline\n",
    "    - Operating_Airline\n",
    "    - DOT_ID_Operating_Airline\n",
    "    - IATA_Code_Operating_Airline\n",
    "    - Tail_Number\n",
    "    - Flight_Number_Operating_Airline\n",
    "    - OriginAirportID\n",
    "    - OriginAirportSeqID\n",
    "    - OriginCityMarketID\n",
    "    - OriginCityName\n",
    "    - OriginState\n",
    "    - OriginStateFips\n",
    "    - OriginStateName\n",
    "    - OriginWac\n",
    "    - DestAirportID\n",
    "    - DestAirportSeqID\n",
    "    - DestCityMarketID\n",
    "    - DestCityName\n",
    "    - DestState\n",
    "    - DestStateFips\n",
    "    - DestStateName\n",
    "    - DestWac\n",
    "    - DepDel15\n",
    "    - DepartureDelayGroups\n",
    "    - DepTimeBlk\n",
    "    - TaxiOut\n",
    "    - WheelsOff\n",
    "    - WheelsOn\n",
    "    - TaxiIn\n",
    "    - CRSArrTime\n",
    "    - ArrDelay\n",
    "    - ArrDel15\n",
    "    - ArrivalDelayGroups\n",
    "    - ArrTimeBlk\n",
    "    - DistanceGroup\n",
    "    - DivAirportLandings"
   ]
  },
  {
   "cell_type": "code",
   "execution_count": 2,
   "id": "f2c23258",
   "metadata": {
    "ExecuteTime": {
     "end_time": "2022-10-21T03:19:57.632713Z",
     "start_time": "2022-10-21T03:19:57.613541Z"
    },
    "id": "tribal-withdrawal"
   },
   "outputs": [],
   "source": [
    "# Read config file\n",
    "import testutility as util\n",
    "config_data = util.read_config_file(\"file.yaml\")"
   ]
  },
  {
   "cell_type": "code",
   "execution_count": 6,
   "id": "ef659584",
   "metadata": {
    "ExecuteTime": {
     "end_time": "2022-10-21T03:10:50.606523Z",
     "start_time": "2022-10-21T03:10:50.591706Z"
    },
    "colab": {
     "base_uri": "https://localhost:8080/",
     "height": 37
    },
    "id": "looking-recording",
    "outputId": "0a183644-28d1-4154-9710-5d6532b147e6"
   },
   "outputs": [
    {
     "data": {
      "text/plain": [
       "','"
      ]
     },
     "execution_count": 6,
     "metadata": {},
     "output_type": "execute_result"
    }
   ],
   "source": [
    "config_data['inbound_delimiter']"
   ]
  },
  {
   "cell_type": "code",
   "execution_count": 7,
   "id": "fe074a6f",
   "metadata": {
    "ExecuteTime": {
     "end_time": "2022-10-21T03:10:51.500621Z",
     "start_time": "2022-10-21T03:10:51.491703Z"
    },
    "colab": {
     "base_uri": "https://localhost:8080/"
    },
    "id": "suited-architecture",
    "outputId": "2861f809-26b2-4afb-93d1-2fe33100d32e"
   },
   "outputs": [
    {
     "data": {
      "text/plain": [
       "{'file_type': 'csv',\n",
       " 'dataset_name': 'testfile',\n",
       " 'file_name': 'Combined_Flights_2019',\n",
       " 'table_name': 'edsurv',\n",
       " 'inbound_delimiter': ',',\n",
       " 'outbound_delimiter': '|',\n",
       " 'skip_leading_rows': 1,\n",
       " 'columns': ['FlightDate',\n",
       "  'Airline',\n",
       "  'Origin',\n",
       "  'Dest',\n",
       "  'Cancelled',\n",
       "  'Diverted',\n",
       "  'CRSDepTime',\n",
       "  'DepTime',\n",
       "  'DepDelayMinutes',\n",
       "  'DepDelay',\n",
       "  'ArrTime',\n",
       "  'ArrDelayMinutes',\n",
       "  'AirTime',\n",
       "  'CRSElapsedTime',\n",
       "  'ActualElapsedTime',\n",
       "  'Distance',\n",
       "  'Year',\n",
       "  'Quarter',\n",
       "  'Month',\n",
       "  'DayofMonth',\n",
       "  'DayOfWeek',\n",
       "  'Marketing_Airline_Network',\n",
       "  'Operated_or_Branded_Code_Share_Partners',\n",
       "  'DOT_ID_Marketing_Airline',\n",
       "  'IATA_Code_Marketing_Airline',\n",
       "  'Flight_Number_Marketing_Airline',\n",
       "  'Operating_Airline',\n",
       "  'DOT_ID_Operating_Airline',\n",
       "  'IATA_Code_Operating_Airline',\n",
       "  'Tail_Number',\n",
       "  'Flight_Number_Operating_Airline',\n",
       "  'OriginAirportID',\n",
       "  'OriginAirportSeqID',\n",
       "  'OriginCityMarketID',\n",
       "  'OriginCityName',\n",
       "  'OriginState',\n",
       "  'OriginStateFips',\n",
       "  'OriginStateName',\n",
       "  'OriginWac',\n",
       "  'DestAirportID',\n",
       "  'DestAirportSeqID',\n",
       "  'DestCityMarketID',\n",
       "  'DestCityName',\n",
       "  'DestState',\n",
       "  'DestStateFips',\n",
       "  'DestStateName',\n",
       "  'DestWac',\n",
       "  'DepDel15',\n",
       "  'DepartureDelayGroups',\n",
       "  'DepTimeBlk',\n",
       "  'TaxiOut',\n",
       "  'WheelsOff',\n",
       "  'WheelsOn',\n",
       "  'TaxiIn',\n",
       "  'CRSArrTime',\n",
       "  'ArrDelay',\n",
       "  'ArrDel15',\n",
       "  'ArrivalDelayGroups',\n",
       "  'ArrTimeBlk',\n",
       "  'DistanceGroup',\n",
       "  'DivAirportLandings']}"
      ]
     },
     "execution_count": 7,
     "metadata": {},
     "output_type": "execute_result"
    }
   ],
   "source": [
    "#inspecting data of config file\n",
    "config_data"
   ]
  },
  {
   "cell_type": "code",
   "execution_count": 3,
   "id": "11c45a77",
   "metadata": {
    "ExecuteTime": {
     "end_time": "2022-10-21T03:20:01.457518Z",
     "start_time": "2022-10-21T03:20:01.449811Z"
    },
    "colab": {
     "base_uri": "https://localhost:8080/"
    },
    "id": "young-cherry",
    "outputId": "b53ad9d6-ac0e-435c-d571-08fbb4738996"
   },
   "outputs": [
    {
     "name": "stdout",
     "output_type": "stream",
     "text": [
      " ./Combined_Flights_2019.csv\n"
     ]
    }
   ],
   "source": [
    "# read the file using config file\n",
    "file_type = config_data['file_type']\n",
    "source_file = \"./\" + config_data['file_name'] + f'.{file_type}'\n",
    "print(\"\",source_file)"
   ]
  },
  {
   "cell_type": "markdown",
   "id": "b4610c6e",
   "metadata": {
    "id": "jww74oE1S3ib"
   },
   "source": [
    "### Pandas"
   ]
  },
  {
   "cell_type": "code",
   "execution_count": 9,
   "id": "101b7df6",
   "metadata": {
    "ExecuteTime": {
     "end_time": "2022-10-21T03:12:24.044986Z",
     "start_time": "2022-10-21T03:11:17.999105Z"
    },
    "colab": {
     "base_uri": "https://localhost:8080/",
     "height": 433
    },
    "id": "detailed-indonesian",
    "outputId": "7c6ac4c8-da67-491e-95ce-37e9c10a0161"
   },
   "outputs": [
    {
     "name": "stdout",
     "output_type": "stream",
     "text": [
      "Read 2.82GB file using pandas:  65.52308750152588 sec\n",
      "\n",
      "(8091684, 61)\n"
     ]
    },
    {
     "data": {
      "text/html": [
       "<div>\n",
       "<style scoped>\n",
       "    .dataframe tbody tr th:only-of-type {\n",
       "        vertical-align: middle;\n",
       "    }\n",
       "\n",
       "    .dataframe tbody tr th {\n",
       "        vertical-align: top;\n",
       "    }\n",
       "\n",
       "    .dataframe thead th {\n",
       "        text-align: right;\n",
       "    }\n",
       "</style>\n",
       "<table border=\"1\" class=\"dataframe\">\n",
       "  <thead>\n",
       "    <tr style=\"text-align: right;\">\n",
       "      <th></th>\n",
       "      <th>FlightDate</th>\n",
       "      <th>Airline</th>\n",
       "      <th>Origin</th>\n",
       "      <th>Dest</th>\n",
       "      <th>Cancelled</th>\n",
       "      <th>Diverted</th>\n",
       "      <th>CRSDepTime</th>\n",
       "      <th>DepTime</th>\n",
       "      <th>DepDelayMinutes</th>\n",
       "      <th>DepDelay</th>\n",
       "      <th>...</th>\n",
       "      <th>WheelsOff</th>\n",
       "      <th>WheelsOn</th>\n",
       "      <th>TaxiIn</th>\n",
       "      <th>CRSArrTime</th>\n",
       "      <th>ArrDelay</th>\n",
       "      <th>ArrDel15</th>\n",
       "      <th>ArrivalDelayGroups</th>\n",
       "      <th>ArrTimeBlk</th>\n",
       "      <th>DistanceGroup</th>\n",
       "      <th>DivAirportLandings</th>\n",
       "    </tr>\n",
       "  </thead>\n",
       "  <tbody>\n",
       "    <tr>\n",
       "      <th>0</th>\n",
       "      <td>2019-04-01</td>\n",
       "      <td>Envoy Air</td>\n",
       "      <td>LIT</td>\n",
       "      <td>ORD</td>\n",
       "      <td>False</td>\n",
       "      <td>False</td>\n",
       "      <td>1212</td>\n",
       "      <td>1209.0</td>\n",
       "      <td>0.0</td>\n",
       "      <td>-3.0</td>\n",
       "      <td>...</td>\n",
       "      <td>1219.0</td>\n",
       "      <td>1342.0</td>\n",
       "      <td>8.0</td>\n",
       "      <td>1405</td>\n",
       "      <td>-15.0</td>\n",
       "      <td>0.0</td>\n",
       "      <td>-1.0</td>\n",
       "      <td>1400-1459</td>\n",
       "      <td>3</td>\n",
       "      <td>0</td>\n",
       "    </tr>\n",
       "    <tr>\n",
       "      <th>1</th>\n",
       "      <td>2019-04-02</td>\n",
       "      <td>Envoy Air</td>\n",
       "      <td>LIT</td>\n",
       "      <td>ORD</td>\n",
       "      <td>False</td>\n",
       "      <td>False</td>\n",
       "      <td>1212</td>\n",
       "      <td>1200.0</td>\n",
       "      <td>0.0</td>\n",
       "      <td>-12.0</td>\n",
       "      <td>...</td>\n",
       "      <td>1210.0</td>\n",
       "      <td>1339.0</td>\n",
       "      <td>9.0</td>\n",
       "      <td>1405</td>\n",
       "      <td>-17.0</td>\n",
       "      <td>0.0</td>\n",
       "      <td>-2.0</td>\n",
       "      <td>1400-1459</td>\n",
       "      <td>3</td>\n",
       "      <td>0</td>\n",
       "    </tr>\n",
       "    <tr>\n",
       "      <th>2</th>\n",
       "      <td>2019-04-03</td>\n",
       "      <td>Envoy Air</td>\n",
       "      <td>LIT</td>\n",
       "      <td>ORD</td>\n",
       "      <td>False</td>\n",
       "      <td>False</td>\n",
       "      <td>1212</td>\n",
       "      <td>1203.0</td>\n",
       "      <td>0.0</td>\n",
       "      <td>-9.0</td>\n",
       "      <td>...</td>\n",
       "      <td>1214.0</td>\n",
       "      <td>1336.0</td>\n",
       "      <td>6.0</td>\n",
       "      <td>1405</td>\n",
       "      <td>-23.0</td>\n",
       "      <td>0.0</td>\n",
       "      <td>-2.0</td>\n",
       "      <td>1400-1459</td>\n",
       "      <td>3</td>\n",
       "      <td>0</td>\n",
       "    </tr>\n",
       "    <tr>\n",
       "      <th>3</th>\n",
       "      <td>2019-04-04</td>\n",
       "      <td>Envoy Air</td>\n",
       "      <td>LIT</td>\n",
       "      <td>ORD</td>\n",
       "      <td>False</td>\n",
       "      <td>False</td>\n",
       "      <td>1212</td>\n",
       "      <td>1435.0</td>\n",
       "      <td>143.0</td>\n",
       "      <td>143.0</td>\n",
       "      <td>...</td>\n",
       "      <td>1452.0</td>\n",
       "      <td>1615.0</td>\n",
       "      <td>6.0</td>\n",
       "      <td>1405</td>\n",
       "      <td>136.0</td>\n",
       "      <td>1.0</td>\n",
       "      <td>9.0</td>\n",
       "      <td>1400-1459</td>\n",
       "      <td>3</td>\n",
       "      <td>0</td>\n",
       "    </tr>\n",
       "    <tr>\n",
       "      <th>4</th>\n",
       "      <td>2019-04-05</td>\n",
       "      <td>Envoy Air</td>\n",
       "      <td>LIT</td>\n",
       "      <td>ORD</td>\n",
       "      <td>False</td>\n",
       "      <td>False</td>\n",
       "      <td>1212</td>\n",
       "      <td>1216.0</td>\n",
       "      <td>4.0</td>\n",
       "      <td>4.0</td>\n",
       "      <td>...</td>\n",
       "      <td>1234.0</td>\n",
       "      <td>1357.0</td>\n",
       "      <td>13.0</td>\n",
       "      <td>1405</td>\n",
       "      <td>5.0</td>\n",
       "      <td>0.0</td>\n",
       "      <td>0.0</td>\n",
       "      <td>1400-1459</td>\n",
       "      <td>3</td>\n",
       "      <td>0</td>\n",
       "    </tr>\n",
       "  </tbody>\n",
       "</table>\n",
       "<p>5 rows × 61 columns</p>\n",
       "</div>"
      ],
      "text/plain": [
       "   FlightDate    Airline Origin Dest  Cancelled  Diverted  CRSDepTime  \\\n",
       "0  2019-04-01  Envoy Air    LIT  ORD      False     False        1212   \n",
       "1  2019-04-02  Envoy Air    LIT  ORD      False     False        1212   \n",
       "2  2019-04-03  Envoy Air    LIT  ORD      False     False        1212   \n",
       "3  2019-04-04  Envoy Air    LIT  ORD      False     False        1212   \n",
       "4  2019-04-05  Envoy Air    LIT  ORD      False     False        1212   \n",
       "\n",
       "   DepTime  DepDelayMinutes  DepDelay  ...  WheelsOff  WheelsOn  TaxiIn  \\\n",
       "0   1209.0              0.0      -3.0  ...     1219.0    1342.0     8.0   \n",
       "1   1200.0              0.0     -12.0  ...     1210.0    1339.0     9.0   \n",
       "2   1203.0              0.0      -9.0  ...     1214.0    1336.0     6.0   \n",
       "3   1435.0            143.0     143.0  ...     1452.0    1615.0     6.0   \n",
       "4   1216.0              4.0       4.0  ...     1234.0    1357.0    13.0   \n",
       "\n",
       "   CRSArrTime  ArrDelay  ArrDel15  ArrivalDelayGroups  ArrTimeBlk  \\\n",
       "0        1405     -15.0       0.0                -1.0   1400-1459   \n",
       "1        1405     -17.0       0.0                -2.0   1400-1459   \n",
       "2        1405     -23.0       0.0                -2.0   1400-1459   \n",
       "3        1405     136.0       1.0                 9.0   1400-1459   \n",
       "4        1405       5.0       0.0                 0.0   1400-1459   \n",
       "\n",
       "   DistanceGroup  DivAirportLandings  \n",
       "0              3                   0  \n",
       "1              3                   0  \n",
       "2              3                   0  \n",
       "3              3                   0  \n",
       "4              3                   0  \n",
       "\n",
       "[5 rows x 61 columns]"
      ]
     },
     "execution_count": 9,
     "metadata": {},
     "output_type": "execute_result"
    }
   ],
   "source": [
    "# Normal reading process of the file\n",
    "import pandas as pd\n",
    "filename=\"Combined_Flights_2019.csv\"\n",
    "start = time.time()\n",
    "df_sample = pd.read_csv(filename,delimiter=',')\n",
    "end = time.time()\n",
    "print(\"Read 2.82GB file using pandas: \",(end-start),\"sec\")\n",
    "print(f\"\\n{df_sample.shape}\")\n",
    "df_sample.head()"
   ]
  },
  {
   "cell_type": "code",
   "execution_count": 8,
   "id": "dffcf481",
   "metadata": {
    "ExecuteTime": {
     "end_time": "2022-10-21T03:25:49.687290Z",
     "start_time": "2022-10-21T03:24:32.830521Z"
    },
    "colab": {
     "base_uri": "https://localhost:8080/",
     "height": 215
    },
    "id": "YI3ecxkkTowO",
    "outputId": "c1f916b7-6865-447e-9d5f-477229b3e8e9"
   },
   "outputs": [
    {
     "name": "stdout",
     "output_type": "stream",
     "text": [
      "Read 2.82GB file using pandas:  76.70126724243164 sec\n"
     ]
    }
   ],
   "source": [
    "start = time.time()\n",
    "df = pd.read_csv(source_file,delimiter=config_data['inbound_delimiter'])\n",
    "end = time.time()\n",
    "print(\"Read 2.82GB file using pandas: \",(end-start),\"sec\")"
   ]
  },
  {
   "cell_type": "markdown",
   "id": "4f869b57",
   "metadata": {
    "id": "W5OK11auTbAB"
   },
   "source": [
    "### Dask"
   ]
  },
  {
   "cell_type": "code",
   "execution_count": null,
   "id": "9edb1bfa",
   "metadata": {
    "ExecuteTime": {
     "end_time": "2022-10-21T03:26:04.576290Z",
     "start_time": "2022-10-21T03:26:03.716463Z"
    },
    "colab": {
     "base_uri": "https://localhost:8080/",
     "height": 426
    },
    "id": "DjFjt2wATt0H",
    "outputId": "ad7bb36a-98b2-4f73-bf35-98b09561d6ba"
   },
   "outputs": [],
   "source": [
    "start = time.time()\n",
    "df = dd.read_csv(source_file) #,delimiter=config_data['inbound_delimiter'],header=1\n",
    "end = time.time()\n",
    "print(\"Read 2.82GB file using dask: \",(end-start),\"sec\")"
   ]
  },
  {
   "cell_type": "markdown",
   "id": "13510b83",
   "metadata": {
    "id": "1J68H-_KT0sf"
   },
   "source": [
    "### Ray"
   ]
  },
  {
   "cell_type": "code",
   "execution_count": null,
   "id": "8e0717e8",
   "metadata": {
    "colab": {
     "base_uri": "https://localhost:8080/"
    },
    "id": "hXXji_G8T7NS",
    "outputId": "94ce9f20-1c2a-4ccd-dd41-2d8b5a2df461"
   },
   "outputs": [
    {
     "name": "stderr",
     "output_type": "stream",
     "text": [
      "2022-10-21 02:25:00,814\tINFO worker.py:1518 -- Started a local Ray instance.\n"
     ]
    }
   ],
   "source": [
    "ray.shutdown()\n",
    "ray.init()\n",
    "start = time.time()\n",
    "df = pd.read_csv(source_file,config_data['inbound_delimiter'])\n",
    "end = time.time()\n",
    "print(\"Read 2.82GB file using ray: \",(end-start),\"sec\")"
   ]
  },
  {
   "cell_type": "markdown",
   "id": "6b4f3422",
   "metadata": {
    "id": "kcMvfEMiTZm2"
   },
   "source": [
    "### Validate"
   ]
  },
  {
   "cell_type": "code",
   "execution_count": 10,
   "id": "8e2b5c3c",
   "metadata": {
    "ExecuteTime": {
     "end_time": "2022-10-21T03:28:10.233926Z",
     "start_time": "2022-10-21T03:28:07.697744Z"
    },
    "id": "polar-interaction"
   },
   "outputs": [
    {
     "name": "stdout",
     "output_type": "stream",
     "text": [
      "column name and column length validation passed\n"
     ]
    },
    {
     "data": {
      "text/plain": [
       "1"
      ]
     },
     "execution_count": 10,
     "metadata": {},
     "output_type": "execute_result"
    }
   ],
   "source": [
    "#validate the header of the file\n",
    "util.col_header_val(df,config_data)"
   ]
  },
  {
   "cell_type": "code",
   "execution_count": 11,
   "id": "f7a3216b",
   "metadata": {
    "ExecuteTime": {
     "end_time": "2022-10-21T03:28:12.956942Z",
     "start_time": "2022-10-21T03:28:12.946351Z"
    },
    "id": "abstract-blocking"
   },
   "outputs": [
    {
     "name": "stdout",
     "output_type": "stream",
     "text": [
      "columns of files are: Index(['FlightDate', 'Airline', 'Origin', 'Dest', 'Cancelled', 'Diverted',\n",
      "       'CRSDepTime', 'DepTime', 'DepDelayMinutes', 'DepDelay', 'ArrTime',\n",
      "       'ArrDelayMinutes', 'AirTime', 'CRSElapsedTime', 'ActualElapsedTime',\n",
      "       'Distance', 'Year', 'Quarter', 'Month', 'DayofMonth', 'DayOfWeek',\n",
      "       'Marketing_Airline_Network', 'Operated_or_Branded_Code_Share_Partners',\n",
      "       'DOT_ID_Marketing_Airline', 'IATA_Code_Marketing_Airline',\n",
      "       'Flight_Number_Marketing_Airline', 'Operating_Airline',\n",
      "       'DOT_ID_Operating_Airline', 'IATA_Code_Operating_Airline',\n",
      "       'Tail_Number', 'Flight_Number_Operating_Airline', 'OriginAirportID',\n",
      "       'OriginAirportSeqID', 'OriginCityMarketID', 'OriginCityName',\n",
      "       'OriginState', 'OriginStateFips', 'OriginStateName', 'OriginWac',\n",
      "       'DestAirportID', 'DestAirportSeqID', 'DestCityMarketID', 'DestCityName',\n",
      "       'DestState', 'DestStateFips', 'DestStateName', 'DestWac', 'DepDel15',\n",
      "       'DepartureDelayGroups', 'DepTimeBlk', 'TaxiOut', 'WheelsOff',\n",
      "       'WheelsOn', 'TaxiIn', 'CRSArrTime', 'ArrDelay', 'ArrDel15',\n",
      "       'ArrivalDelayGroups', 'ArrTimeBlk', 'DistanceGroup',\n",
      "       'DivAirportLandings'],\n",
      "      dtype='object')\n",
      "columns of YAML are: ['ActualElapsedTime', 'AirTime', 'Airline', 'ArrDel15', 'ArrDelay', 'ArrDelayMinutes', 'ArrTime', 'ArrTimeBlk', 'ArrivalDelayGroups', 'CRSArrTime', 'CRSDepTime', 'CRSElapsedTime', 'Cancelled', 'DOT_ID_Marketing_Airline', 'DOT_ID_Operating_Airline', 'DayOfWeek', 'DayofMonth', 'DepDel15', 'DepDelay', 'DepDelayMinutes', 'DepTime', 'DepTimeBlk', 'DepartureDelayGroups', 'Dest', 'DestAirportID', 'DestAirportSeqID', 'DestCityMarketID', 'DestCityName', 'DestState', 'DestStateFips', 'DestStateName', 'DestWac', 'Distance', 'DistanceGroup', 'DivAirportLandings', 'Diverted', 'FlightDate', 'Flight_Number_Marketing_Airline', 'Flight_Number_Operating_Airline', 'IATA_Code_Marketing_Airline', 'IATA_Code_Operating_Airline', 'Marketing_Airline_Network', 'Month', 'Operated_or_Branded_Code_Share_Partners', 'Operating_Airline', 'Origin', 'OriginAirportID', 'OriginAirportSeqID', 'OriginCityMarketID', 'OriginCityName', 'OriginState', 'OriginStateFips', 'OriginStateName', 'OriginWac', 'Quarter', 'Tail_Number', 'TaxiIn', 'TaxiOut', 'WheelsOff', 'WheelsOn', 'Year']\n"
     ]
    }
   ],
   "source": [
    "print(\"columns of files are:\" ,df.columns)\n",
    "print(\"columns of YAML are:\" ,config_data['columns'])"
   ]
  },
  {
   "cell_type": "code",
   "execution_count": 12,
   "id": "93a7e673",
   "metadata": {
    "ExecuteTime": {
     "end_time": "2022-10-21T03:28:22.559624Z",
     "start_time": "2022-10-21T03:28:20.014024Z"
    },
    "id": "welcome-empty"
   },
   "outputs": [
    {
     "name": "stdout",
     "output_type": "stream",
     "text": [
      "column name and column length validation passed\n",
      "col validation passed\n"
     ]
    }
   ],
   "source": [
    "if util.col_header_val(df,config_data)==0:\n",
    "    print(\"validation failed\")\n",
    "    # write code to reject the file\n",
    "else:\n",
    "    print(\"col validation passed\")\n",
    "    # write the code to perform further action\n",
    "    # in the pipleine"
   ]
  },
  {
   "cell_type": "markdown",
   "id": "a6e625fa",
   "metadata": {
    "id": "Zobt6b5jUnQx"
   },
   "source": [
    "### Summary of file"
   ]
  },
  {
   "cell_type": "code",
   "execution_count": 13,
   "id": "44621efd",
   "metadata": {
    "ExecuteTime": {
     "end_time": "2022-10-21T03:28:24.517556Z",
     "start_time": "2022-10-21T03:28:24.507487Z"
    },
    "id": "smoking-strain"
   },
   "outputs": [
    {
     "name": "stdout",
     "output_type": "stream",
     "text": [
      "(8091684, 61)\n"
     ]
    }
   ],
   "source": [
    "print(df.shape)"
   ]
  },
  {
   "cell_type": "code",
   "execution_count": 16,
   "id": "3549267d",
   "metadata": {
    "ExecuteTime": {
     "end_time": "2022-10-21T03:28:37.516207Z",
     "start_time": "2022-10-21T03:28:37.508450Z"
    },
    "id": "FTe5VFwYUyeg"
   },
   "outputs": [
    {
     "name": "stdout",
     "output_type": "stream",
     "text": [
      "File Size is : 2.6277403542771935 GBs\n"
     ]
    }
   ],
   "source": [
    "file_size = os.path.getsize(source_file)/1024/1024/1024\n",
    "print(\"File Size is :\", file_size, \"GBs\")"
   ]
  },
  {
   "cell_type": "code",
   "execution_count": 17,
   "id": "b5ae811c",
   "metadata": {
    "ExecuteTime": {
     "end_time": "2022-10-21T03:28:40.349545Z",
     "start_time": "2022-10-21T03:28:39.371466Z"
    },
    "id": "allied-tribute"
   },
   "outputs": [
    {
     "data": {
      "text/plain": [
       "<bound method NDFrame.describe of          FlightDate                   Airline Origin Dest  Cancelled  \\\n",
       "0        2019-04-01                 Envoy Air    LIT  ORD      False   \n",
       "1        2019-04-02                 Envoy Air    LIT  ORD      False   \n",
       "2        2019-04-03                 Envoy Air    LIT  ORD      False   \n",
       "3        2019-04-04                 Envoy Air    LIT  ORD      False   \n",
       "4        2019-04-05                 Envoy Air    LIT  ORD      False   \n",
       "...             ...                       ...    ...  ...        ...   \n",
       "8091679  2019-01-23  ExpressJet Airlines Inc.    MEM  IAH      False   \n",
       "8091680  2019-01-24  ExpressJet Airlines Inc.    MEM  IAH      False   \n",
       "8091681  2019-01-25  ExpressJet Airlines Inc.    MEM  IAH      False   \n",
       "8091682  2019-01-26  ExpressJet Airlines Inc.    MEM  IAH      False   \n",
       "8091683  2019-01-28  ExpressJet Airlines Inc.    MEM  IAH      False   \n",
       "\n",
       "         Diverted  CRSDepTime  DepTime  DepDelayMinutes  DepDelay  ...  \\\n",
       "0           False        1212   1209.0              0.0      -3.0  ...   \n",
       "1           False        1212   1200.0              0.0     -12.0  ...   \n",
       "2           False        1212   1203.0              0.0      -9.0  ...   \n",
       "3           False        1212   1435.0            143.0     143.0  ...   \n",
       "4           False        1212   1216.0              4.0       4.0  ...   \n",
       "...           ...         ...      ...              ...       ...  ...   \n",
       "8091679     False         640    634.0              0.0      -6.0  ...   \n",
       "8091680     False         640    631.0              0.0      -9.0  ...   \n",
       "8091681     False         640    632.0              0.0      -8.0  ...   \n",
       "8091682     False         640    630.0              0.0     -10.0  ...   \n",
       "8091683     False         640    632.0              0.0      -8.0  ...   \n",
       "\n",
       "         WheelsOff  WheelsOn  TaxiIn  CRSArrTime  ArrDelay  ArrDel15  \\\n",
       "0           1219.0    1342.0     8.0        1405     -15.0       0.0   \n",
       "1           1210.0    1339.0     9.0        1405     -17.0       0.0   \n",
       "2           1214.0    1336.0     6.0        1405     -23.0       0.0   \n",
       "3           1452.0    1615.0     6.0        1405     136.0       1.0   \n",
       "4           1234.0    1357.0    13.0        1405       5.0       0.0   \n",
       "...            ...       ...     ...         ...       ...       ...   \n",
       "8091679      710.0     847.0     6.0         840      13.0       0.0   \n",
       "8091680      657.0     820.0    10.0         840     -10.0       0.0   \n",
       "8091681      654.0     822.0     6.0         840     -12.0       0.0   \n",
       "8091682      656.0     825.0     6.0         840      -9.0       0.0   \n",
       "8091683      652.0     813.0    12.0         840     -15.0       0.0   \n",
       "\n",
       "         ArrivalDelayGroups  ArrTimeBlk  DistanceGroup  DivAirportLandings  \n",
       "0                      -1.0   1400-1459              3                   0  \n",
       "1                      -2.0   1400-1459              3                   0  \n",
       "2                      -2.0   1400-1459              3                   0  \n",
       "3                       9.0   1400-1459              3                   0  \n",
       "4                       0.0   1400-1459              3                   0  \n",
       "...                     ...         ...            ...                 ...  \n",
       "8091679                 0.0   0800-0859              2                   0  \n",
       "8091680                -1.0   0800-0859              2                   0  \n",
       "8091681                -1.0   0800-0859              2                   0  \n",
       "8091682                -1.0   0800-0859              2                   0  \n",
       "8091683                -1.0   0800-0859              2                   0  \n",
       "\n",
       "[8091684 rows x 61 columns]>"
      ]
     },
     "execution_count": 17,
     "metadata": {},
     "output_type": "execute_result"
    }
   ],
   "source": [
    "df.describe"
   ]
  }
 ],
 "metadata": {
  "colab": {
   "collapsed_sections": [],
   "provenance": []
  },
  "environment": {
   "name": "tf2-gpu.2-1.m65",
   "type": "gcloud",
   "uri": "gcr.io/deeplearning-platform-release/tf2-gpu.2-1:m65"
  },
  "kernelspec": {
   "display_name": "Python 3 (ipykernel)",
   "language": "python",
   "name": "python3"
  },
  "language_info": {
   "codemirror_mode": {
    "name": "ipython",
    "version": 3
   },
   "file_extension": ".py",
   "mimetype": "text/x-python",
   "name": "python",
   "nbconvert_exporter": "python",
   "pygments_lexer": "ipython3",
   "version": "3.10.4"
  },
  "toc": {
   "base_numbering": 1,
   "nav_menu": {},
   "number_sections": true,
   "sideBar": true,
   "skip_h1_title": false,
   "title_cell": "Table of Contents",
   "title_sidebar": "Contents",
   "toc_cell": false,
   "toc_position": {},
   "toc_section_display": true,
   "toc_window_display": false
  },
  "varInspector": {
   "cols": {
    "lenName": 16,
    "lenType": 16,
    "lenVar": 40
   },
   "kernels_config": {
    "python": {
     "delete_cmd_postfix": "",
     "delete_cmd_prefix": "del ",
     "library": "var_list.py",
     "varRefreshCmd": "print(var_dic_list())"
    },
    "r": {
     "delete_cmd_postfix": ") ",
     "delete_cmd_prefix": "rm(",
     "library": "var_list.r",
     "varRefreshCmd": "cat(var_dic_list()) "
    }
   },
   "types_to_exclude": [
    "module",
    "function",
    "builtin_function_or_method",
    "instance",
    "_Feature"
   ],
   "window_display": false
  }
 },
 "nbformat": 4,
 "nbformat_minor": 5
}
